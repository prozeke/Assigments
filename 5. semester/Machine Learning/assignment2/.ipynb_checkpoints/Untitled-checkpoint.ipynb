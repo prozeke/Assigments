{
 "cells": [
  {
   "cell_type": "markdown",
   "metadata": {},
   "source": [
    "# Assignment 3"
   ]
  },
  {
   "cell_type": "markdown",
   "metadata": {},
   "source": [
    "## Theory Questions"
   ]
  },
  {
   "cell_type": "markdown",
   "metadata": {},
   "source": [
    "### MLE"
   ]
  },
  {
   "cell_type": "markdown",
   "metadata": {},
   "source": [
    "1) Suppose you have N samples x1, x2.....xN from a univariate normal distribution\n",
    "   with unknown mean µ and known variance $σ^2$. Derive the MLE estimator for the\n",
    "   mean µ."
   ]
  },
  {
   "cell_type": "markdown",
   "metadata": {},
   "source": [
    "$MLE =\\underset{\\mu}{\\mathrm{argmax}}P(D|\\mu)$"
   ]
  },
  {
   "cell_type": "markdown",
   "metadata": {},
   "source": [
    "Where $D$ denotes the dataset and $\\mu$ is the missing variable of the gaussian distribution. Lets first find out $P(D|\\mu)$"
   ]
  },
  {
   "cell_type": "markdown",
   "metadata": {},
   "source": [
    "Since it is a normal distrubition with known variance $\\sigma^2$, its equation is:"
   ]
  },
  {
   "cell_type": "markdown",
   "metadata": {},
   "source": [
    "$P(D|\\mu) = \\Pi_{i=1}^n(2\\pi\\sigma^2)^{-1/2}e^{\\dfrac{-(x_i - \\mu)^2}{2\\sigma^2}}$"
   ]
  },
  {
   "cell_type": "markdown",
   "metadata": {},
   "source": [
    "Considering all constants are positive, we can just get rid of them in $argmax$ function."
   ]
  },
  {
   "cell_type": "markdown",
   "metadata": {},
   "source": [
    "$\\underset{\\mu}{\\mathrm{argmax}}P(D|\\mu) = \\underset{\\mu}{\\mathrm{argmax}} \\Pi_{i=1}^ne^{-(x_i - \\mu)^2}$"
   ]
  },
  {
   "cell_type": "markdown",
   "metadata": {},
   "source": [
    "Since logarithm is a strictly increasing function we can write"
   ]
  },
  {
   "cell_type": "markdown",
   "metadata": {},
   "source": [
    "$\\underset{\\mu}{\\mathrm{argmax}} \\Pi_{i=1}^ne^{-(x_i - \\mu)^2} = \\underset{\\mu}{\\mathrm{argmax}}ln( \\Pi_{i=1}^ne^{-(x_i - \\mu)^2})$"
   ]
  },
  {
   "cell_type": "markdown",
   "metadata": {},
   "source": [
    "$\\underset{\\mu}{\\mathrm{argmax}}ln( \\Pi_{i=1}^ne^{-(x_i - \\mu)^2}) = \\underset{\\mu}{\\mathrm{argmax}}\\Sigma_{i=1}^n-(x_i - \\mu)^2$"
   ]
  },
  {
   "cell_type": "markdown",
   "metadata": {},
   "source": [
    "In order to find the argmax of the last function, we need to take the derivative of it and equate to zero. Equation is:"
   ]
  },
  {
   "cell_type": "markdown",
   "metadata": {},
   "source": [
    "$-\\Sigma_{i=1}^n2(x_i-\\mu) = 0$ which implies"
   ]
  },
  {
   "cell_type": "markdown",
   "metadata": {},
   "source": [
    "$-\\Sigma_{i=1}^n(x_i) - n\\mu = 0 \\implies\\bar{N}n = n\\mu$  "
   ]
  },
  {
   "cell_type": "markdown",
   "metadata": {},
   "source": [
    "Therefore, MLE estimator for $\\mu$ is the mean of the set N."
   ]
  },
  {
   "cell_type": "code",
   "execution_count": null,
   "metadata": {},
   "outputs": [],
   "source": []
  }
 ],
 "metadata": {
  "kernelspec": {
   "display_name": "Python 3",
   "language": "python",
   "name": "python3"
  },
  "language_info": {
   "codemirror_mode": {
    "name": "ipython",
    "version": 3
   },
   "file_extension": ".py",
   "mimetype": "text/x-python",
   "name": "python",
   "nbconvert_exporter": "python",
   "pygments_lexer": "ipython3",
   "version": "3.5.6"
  }
 },
 "nbformat": 4,
 "nbformat_minor": 2
}
